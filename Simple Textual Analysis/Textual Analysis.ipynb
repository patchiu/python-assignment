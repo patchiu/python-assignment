{
 "cells": [
  {
   "cell_type": "code",
   "execution_count": 105,
   "metadata": {},
   "outputs": [
    {
     "name": "stdout",
     "output_type": "stream",
     "text": [
      "pos list\n",
      "['joyful', 'glory', 'light', 'love', 'hope', 'good', 'fame', 'glad', 'gain', 'happiness']\n",
      "~~~~~~~~~~~~~~~\n",
      "neg list\n",
      "['sad', 'sin', 'dark', 'pain', 'gone', 'hurt', 'hate', 'alone', 'loss', 'sorrow']\n"
     ]
    }
   ],
   "source": [
    "file_temp1 = open(\"neg_list.txt\", \"r\")       \n",
    "content_temp1 = file_temp1.read()    \n",
    "file_temp1.close()\n",
    "        \n",
    "My_neg_list = content_temp1.lower().split( )\n",
    "    \n",
    "    \n",
    "    \n",
    "    \n",
    "file_temp2 = open(\"pos_list.txt\", \"r\")       \n",
    "content_temp2 = file_temp2.read()    \n",
    "file_temp2.close()\n",
    "        \n",
    "My_pos_list = content_temp2.lower().split( )\n",
    "\n",
    "\n",
    "print('pos list')\n",
    "print(My_pos_list)\n",
    "print('~'*15)\n",
    "print('neg list')\n",
    "print(My_neg_list)"
   ]
  },
  {
   "cell_type": "code",
   "execution_count": 146,
   "metadata": {},
   "outputs": [
    {
     "name": "stdout",
     "output_type": "stream",
     "text": [
      "Textual Analysis: \n",
      "\n",
      "Number of words in Joyful.txt : 91 \n",
      "\n",
      "Dictionary\n",
      "====================\n",
      "     joyful : 3              \n",
      "      glory : 1              \n",
      "      light : 2              \n",
      "       love : 1              \n",
      "        sin : 1              \n",
      "       dark : 1              \n",
      "====================\n",
      "Hit Rate =  9 / 91 = 9.890% \n",
      "\n",
      "Positive Index: 7\n",
      "Negative Index: 2 \n",
      "\n",
      "Joyful.txt is Positive\n"
     ]
    }
   ],
   "source": [
    "\n",
    "txt_input=\"Joyful.txt\" #Please type in the filename\n",
    "\n",
    "\n",
    "\n",
    "file = open(txt_input, \"r\")       \n",
    "content = file.read()    \n",
    "file_temp.close()\n",
    "\n",
    "content = content.lower()\n",
    "\n",
    "import string # to access the string.punctuation\n",
    "for c in string.punctuation:\n",
    "    content = content.replace(c, '') \n",
    "\n",
    "    \n",
    "    \n",
    "wordfreq = {}    \n",
    "for word in content.split():\n",
    "    if word not in wordfreq:\n",
    "        wordfreq[word] = 0 \n",
    "    wordfreq[word] += 1\n",
    "\n",
    "txt_num = len(content.split())     \n",
    "\n",
    "pos_wordfreq = {key: wordfreq[key] for key in My_pos_list if key in wordfreq}\n",
    "pos_num = sum(pos_wordfreq.values())\n",
    "\n",
    "neg_wordfreq = {key: wordfreq[key] for key in My_neg_list if key in wordfreq}\n",
    "neg_num = sum(neg_wordfreq.values())\n",
    "\n",
    "if pos_num == neg_num :\n",
    "    feeling = 'Neutral'\n",
    "elif pos_num > neg_num :\n",
    "    feeling = 'Positive'\n",
    "else :\n",
    "    feeling = 'Negative'\n",
    "\n",
    "    \n",
    "    \n",
    "    \n",
    "print('Textual Analysis:','\\n')    \n",
    "\n",
    "print('Number of words in',txt_input,':',txt_num,'\\n')\n",
    "print('Dictionary')\n",
    "print('='*20,)\n",
    "\n",
    "for word , freq in pos_wordfreq.items():\n",
    "    print('{:>11}'.format(word) , ':' , '{:<15}'.format(freq ) )\n",
    "for word , freq in neg_wordfreq.items():\n",
    "    print('{:>11}'.format(word) , ':' , '{:<15}'.format(freq ) )    \n",
    "    \n",
    "print('='*20,)   \n",
    "print('Hit Rate = ', pos_num+neg_num,'/',txt_num , '=' ,'{0:.3%}'.format((pos_num+neg_num)/txt_num ),'\\n')   \n",
    "  \n",
    "print('Positive Index:',pos_num )  \n",
    "print('Negative Index:',neg_num ,'\\n' )  \n",
    "\n",
    "print(txt_input,'is',feeling )  \n",
    "\n"
   ]
  },
  {
   "cell_type": "code",
   "execution_count": null,
   "metadata": {},
   "outputs": [],
   "source": []
  }
 ],
 "metadata": {
  "kernelspec": {
   "display_name": "Python 3",
   "language": "python",
   "name": "python3"
  },
  "language_info": {
   "codemirror_mode": {
    "name": "ipython",
    "version": 3
   },
   "file_extension": ".py",
   "mimetype": "text/x-python",
   "name": "python",
   "nbconvert_exporter": "python",
   "pygments_lexer": "ipython3",
   "version": "3.8.3"
  }
 },
 "nbformat": 4,
 "nbformat_minor": 4
}
