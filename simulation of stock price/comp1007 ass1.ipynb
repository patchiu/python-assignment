{
 "cells": [
  {
   "cell_type": "code",
   "execution_count": 96,
   "metadata": {},
   "outputs": [
    {
     "name": "stdout",
     "output_type": "stream",
     "text": [
      " Day  Price   7DayMin    7DayMax    7DayAve    50DayAve \n",
      "==================================================\n",
      "   1 100.430    N/A        N/A     N/A        N/A: 1 record only!\n",
      "   2 102.035    N/A        N/A     N/A        N/A: 2 record only!\n",
      "   3 103.544    N/A        N/A     N/A        N/A: 3 record only!\n",
      "   4 104.005    N/A        N/A     N/A        N/A: 4 record only!\n",
      "   5 104.075    N/A        N/A     N/A        N/A: 5 record only!\n",
      "   6 105.098    N/A        N/A     N/A        N/A: 6 record only!\n",
      "   7 104.307  100.430    105.098   103.356    N/A: 7 record only!\n",
      "   8 105.257  102.035    105.257   104.046    N/A: 8 record only!\n",
      "   9 103.909  103.544    105.257   104.314    N/A: 9 record only!\n",
      "  10 102.860  102.860    105.257   104.216    N/A: 10 record only!\n",
      "  11 104.508  102.860    105.257   104.288    N/A: 11 record only!\n",
      "  12 105.239  102.860    105.257   104.454    N/A: 12 record only!\n",
      "  13 103.018  102.860    105.257   104.157    N/A: 13 record only!\n",
      "  14 101.931  101.931    105.257   103.817    N/A: 14 record only!\n",
      "  15 102.110  101.931    105.239   103.368    N/A: 15 record only!\n",
      "  16 101.724  101.724    105.239   103.056    N/A: 16 record only!\n",
      "  17 104.617  101.724    105.239   103.307    N/A: 17 record only!\n",
      "  18 105.754  101.724    105.754   103.485    N/A: 18 record only!\n",
      "  19 107.406  101.724    107.406   103.794    N/A: 19 record only!\n",
      "  20 107.700  101.724    107.700   104.463    N/A: 20 record only!\n",
      "  21 108.102  101.724    108.102   105.345    N/A: 21 record only!\n",
      "  22 109.072  101.724    109.072   106.339    N/A: 22 record only!\n",
      "  23 107.316  104.617    109.072   107.138    N/A: 23 record only!\n",
      "  24 105.429  105.429    109.072   107.254    N/A: 24 record only!\n",
      "  25 105.558  105.429    109.072   107.226    N/A: 25 record only!\n",
      "  26 105.927  105.429    109.072   107.015    N/A: 26 record only!\n",
      "  27 106.443  105.429    109.072   106.835    N/A: 27 record only!\n",
      "  28 106.460  105.429    109.072   106.601    N/A: 28 record only!\n",
      "  29 106.592  105.429    107.316   106.246    N/A: 29 record only!\n",
      "  30 106.976  105.429    106.976   106.198    N/A: 30 record only!\n",
      "  31 106.377  105.558    106.976   106.333    N/A: 31 record only!\n",
      "  32 107.154  105.927    107.154   106.561    N/A: 32 record only!\n",
      "  33 107.715  106.377    107.715   106.817    N/A: 33 record only!\n",
      "  34 107.870  106.377    107.870   107.021    N/A: 34 record only!\n",
      "  35 108.851  106.377    108.851   107.362    N/A: 35 record only!\n",
      "  36 108.319  106.377    108.851   107.609    N/A: 36 record only!\n",
      "  37 110.846  106.377    110.846   108.162    N/A: 37 record only!\n",
      "  38 110.038  107.154    110.846   108.685    N/A: 38 record only!\n",
      "  39 112.567  107.715    112.567   109.458    N/A: 39 record only!\n",
      "  40 111.409  107.870    112.567   109.986    N/A: 40 record only!\n",
      "  41 111.210  108.319    112.567   110.463    N/A: 41 record only!\n",
      "  42 112.808  108.319    112.808   111.028    N/A: 42 record only!\n",
      "  43 114.457  110.038    114.457   111.905    N/A: 43 record only!\n",
      "  44 112.541  110.038    114.457   112.147    N/A: 44 record only!\n",
      "  45 113.414  111.210    114.457   112.630    N/A: 45 record only!\n",
      "  46 110.535  110.535    114.457   112.339    N/A: 46 record only!\n",
      "  47 113.114  110.535    114.457   112.583    N/A: 47 record only!\n",
      "  48 110.396  110.396    114.457   112.467    N/A: 48 record only!\n",
      "  49 109.363  109.363    114.457   111.974    N/A: 49 record only!\n",
      "  50 108.904  108.904    113.414   111.181    107.106   \n",
      "  51 107.142  107.142    113.414   110.410    107.240 ***\n",
      "  52 107.967  107.142    113.114   109.632    107.359   \n",
      "  53 109.558  107.142    113.114   109.492    107.479   \n",
      "  54 107.356  107.142    110.396   108.669    107.546 ***\n",
      "  55 108.697  107.142    109.558   108.427    107.638   \n",
      "  56 106.906  106.906    109.558   108.076    107.675 ***\n",
      "  57 108.727  106.906    109.558   108.050    107.763   \n",
      "  58 108.526  106.906    109.558   108.248    107.828   \n",
      "  59 106.926  106.906    109.558   108.099    107.889 ***\n",
      "  60 106.773  106.773    108.727   107.702    107.967 ***\n",
      "  61 107.399  106.773    108.727   107.708    108.025 ***\n",
      "  62 106.325  106.325    108.727   107.369    108.046 ***\n",
      "  63 105.409  105.409    108.727   107.155    108.094 ***\n",
      "  64 103.058  103.058    108.526   106.345    108.117 ***\n",
      "  65 104.850  103.058    107.399   105.820    108.172 ***\n",
      "  66 105.534  103.058    107.399   105.621    108.248 ***\n",
      "  67 105.582  103.058    107.399   105.451    108.267 ***\n",
      "  68 105.656  103.058    106.325   105.202    108.265 ***\n",
      "  69 105.801  103.058    105.801   105.127    108.233 ***\n",
      "  70 105.770  103.058    105.801   105.179    108.195 ***\n",
      "  71 106.881  104.850    106.881   105.725    108.170 ***\n",
      "  72 108.815  105.534    108.815   106.291    108.165   \n",
      "  73 109.718  105.582    109.718   106.889    108.213   \n",
      "  74 109.935  105.656    109.935   107.511    108.303   \n",
      "  75 111.708  105.770    111.708   108.376    108.426   \n",
      "  76 110.394  105.770    111.708   109.032    108.515   \n",
      "  77 110.657  106.881    111.708   109.730    108.600   \n",
      "  78 108.628  108.628    111.708   109.979    108.643 ***\n",
      "  79 108.190  108.190    111.708   109.890    108.675 ***\n",
      "  80 107.816  107.816    111.708   109.618    108.692 ***\n",
      "  81 108.890  107.816    111.708   109.469    108.742   \n",
      "  82 107.755  107.755    110.657   108.904    108.754 ***\n",
      "  83 107.756  107.755    110.657   108.528    108.755 ***\n",
      "  84 107.046  107.046    108.890   108.012    108.739 ***\n",
      "  85 109.494  107.046    109.494   108.135    108.751   \n",
      "  86 108.003  107.046    109.494   108.109    108.745 ***\n",
      "  87 107.984  107.046    109.494   108.133    108.688 ***\n",
      "  88 107.121  107.046    109.494   107.880    108.629 ***\n",
      "  89 108.025  107.046    109.494   107.918    108.539 ***\n",
      "  90 107.489  107.046    109.494   107.880    108.460 ***\n",
      "  91 107.331  107.121    109.494   107.921    108.383 ***\n",
      "  92 110.167  107.121    110.167   108.017    108.330   \n",
      "  93 108.463  107.121    110.167   108.083    108.210   \n",
      "  94 106.691  106.691    110.167   107.898    108.093 ***\n",
      "  95 103.771  103.771    110.167   107.420    107.900 ***\n",
      "  96 104.179  103.771    110.167   106.870    107.773 ***\n",
      "  97 106.573  103.771    110.167   106.739    107.642 ***\n",
      "  98 108.709  103.771    110.167   106.936    107.608   \n",
      "  99 106.547  103.771    108.709   106.419    107.552 ***\n",
      " 100 104.034  103.771    108.709   105.786    107.455 ***\n"
     ]
    }
   ],
   "source": [
    "import random\n",
    "random.seed(37) # I like to set the random seed at 37!\n",
    "\n",
    "\n",
    "def fluctuation():\n",
    " return (random.normalvariate(0.0, 0.0125))\n",
    "\n",
    "\n",
    "StockPrice = 100.0 # StockPrice starts at $100.00\n",
    "StockHistory = [] # Start with an empty list\n",
    "Day_Min_7=0.\n",
    "Day_Max_7=0.\n",
    "Day_Ave_7=0.\n",
    "\n",
    "print(format(\"Day\",\">4\") ,format(\"Price\",\"^7\"),format(\"7DayMin\",\"^10\"),format(\"7DayMax\",\"^10\"),format(\"7DayAve\",\"^10\"),format(\"50DayAve\",\"^10\"))\n",
    "print('='*50)\n",
    "\n",
    "\n",
    "\n",
    "for i in range(100):\n",
    "\n",
    "    StockPrice *= (1 + fluctuation())# Calculate the next StockPrice\n",
    "    StockHistory.append(StockPrice)# To append StockPrice to the end of the list\n",
    "    \n",
    "    if(len(StockHistory) >= 7): # If the list contains more than 6 records\n",
    "        Day_Min_7 = str(round(min(StockHistory[-7:]), 3)).ljust(7,'0') # Calculate the 7DayMin, round it, change the data type to str, fill 0 to the right\n",
    "        Day_Max_7 = str(round(max(StockHistory[-7:]), 3)).ljust(7,'0') # Calculate the 7DayMax, round it, change the data type to str, fill 0 to the right\n",
    "        Day_Ave_7 = str(round(sum(StockHistory[-7:])/7 , 3)).ljust(7,'0') # Calculate the 7DayAve, round it, change the data type to str, fill 0 to the right\n",
    "    else: Day_Min_7,Day_Max_7,Day_Ave_7='N/A','N/A','N/A'\n",
    "            \n",
    "    \n",
    "    if(len(StockHistory) >= 50): # If the list contains more than or equal 50 records\n",
    "         \n",
    "        Day_Ave_50 = sum(StockHistory[:])/50  # Calculate the 7DayMin \n",
    "        \n",
    "        if(StockPrice < Day_Ave_50): # If the StockPrice drops below Day_Ave_50\n",
    "            Day_Ave_50 = (str(round(Day_Ave_50, 3)).ljust(7,'0') + ' ***') # round Day_Ave_50, change the data type to str, fill 0 to the right, add ***\n",
    "        else: Day_Ave_50  = str(round(Day_Ave_50, 3)).ljust(7,'0') # round Day_Ave_50, change the data type to str, fill 0 to the right\n",
    "            \n",
    "        StockHistory.pop(0)# delete the first record which is indexed by zero\n",
    "        \n",
    "    else: Day_Ave_50 = ('N/A: ' + str(i+1) + ' record only!')\n",
    "        \n",
    "    \n",
    "    print(format(i+1,\">4\"),\"{:.3f}\".format(StockPrice,\"^7\"),'{:^10}'.format(Day_Min_7),'{:^10}'.format(Day_Max_7),'{:<10}'.format(Day_Ave_7),'{:<10}'.format(Day_Ave_50))                                           \n",
    "    \n",
    "    \n",
    "    \n",
    "    \n",
    "    \n",
    "\n"
   ]
  },
  {
   "cell_type": "code",
   "execution_count": 82,
   "metadata": {},
   "outputs": [
    {
     "data": {
      "text/plain": [
       "'3 record only!'"
      ]
     },
     "execution_count": 82,
     "metadata": {},
     "output_type": "execute_result"
    }
   ],
   "source": [
    "(str(3)+' record only!').ljust(7,'0')"
   ]
  },
  {
   "cell_type": "code",
   "execution_count": 80,
   "metadata": {},
   "outputs": [
    {
     "data": {
      "text/plain": [
       "'7890000'"
      ]
     },
     "execution_count": 80,
     "metadata": {},
     "output_type": "execute_result"
    }
   ],
   "source": [
    " '789'.ljust(7,'0')"
   ]
  },
  {
   "cell_type": "code",
   "execution_count": 87,
   "metadata": {},
   "outputs": [
    {
     "data": {
      "text/plain": [
       "'0000798'"
      ]
     },
     "execution_count": 87,
     "metadata": {},
     "output_type": "execute_result"
    }
   ],
   "source": [
    "'798'.rjust(7,'0')"
   ]
  }
 ],
 "metadata": {
  "kernelspec": {
   "display_name": "Python 3",
   "language": "python",
   "name": "python3"
  },
  "language_info": {
   "codemirror_mode": {
    "name": "ipython",
    "version": 3
   },
   "file_extension": ".py",
   "mimetype": "text/x-python",
   "name": "python",
   "nbconvert_exporter": "python",
   "pygments_lexer": "ipython3",
   "version": "3.7.9"
  }
 },
 "nbformat": 4,
 "nbformat_minor": 4
}
